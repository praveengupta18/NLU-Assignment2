{
 "cells": [
  {
   "cell_type": "code",
   "execution_count": 1,
   "metadata": {},
   "outputs": [
    {
     "name": "stderr",
     "output_type": "stream",
     "text": [
      "/usr/local/lib/python3.5/dist-packages/h5py/__init__.py:36: FutureWarning: Conversion of the second argument of issubdtype from `float` to `np.floating` is deprecated. In future, it will be treated as `np.float64 == np.dtype(float).type`.\n",
      "  from ._conv import register_converters as _register_converters\n",
      "Using TensorFlow backend.\n"
     ]
    }
   ],
   "source": [
    "import nltk\n",
    "from nltk.corpus import gutenberg\n",
    "import tensorflow as tf\n",
    "import numpy as np\n",
    "from sklearn.model_selection import train_test_split\n",
    "import random\n",
    "from numpy import array\n",
    "from pickle import dump\n",
    "from keras.utils import to_categorical\n",
    "from keras.models import Sequential\n",
    "from keras.layers import Dense"
   ]
  },
  {
   "cell_type": "code",
   "execution_count": 5,
   "metadata": {},
   "outputs": [],
   "source": [
    "file = open('char_train.txt', 'r')\n",
    "train = file.read()\n",
    "file.close()\n",
    "\n",
    "text = train.lower()\n",
    "\n",
    "text2 = text.split()\n",
    "text = ' '.join(text2)\n",
    "\n",
    "l = 10\n",
    "lines = list()\n",
    "for i in range(l, len(text)):\n",
    "    l2 = text[i-l:i+1]\n",
    "    lines.append(l2)"
   ]
  },
  {
   "cell_type": "code",
   "execution_count": null,
   "metadata": {},
   "outputs": [],
   "source": [
    "chars = sorted(list(set(text)))\n",
    "mapping = dict((c, i) for i, c in enumerate(chars))\n",
    "lines2 = list()\n",
    "for line in lines:\n",
    "    encoded_seq = [mapping[char] for char in line]\n",
    "    lines2.append(encoded_seq)\n",
    "\n",
    "vocab_size = len(mapping)\n",
    "\n",
    "lines2 = array(lines2)\n",
    "X = lines2[:,:-1]\n",
    "Y = lines2[:,-1]\n",
    "lines2 = [to_categorical(x, num_classes=vocab_size) for x in X]\n",
    "X = array(lines2)\n",
    "y = to_categorical(y, num_classes=vocab_size)"
   ]
  },
  {
   "cell_type": "markdown",
   "metadata": {},
   "source": [
    "## Model Train"
   ]
  },
  {
   "cell_type": "code",
   "execution_count": null,
   "metadata": {},
   "outputs": [],
   "source": [
    "model = Sequential()\n",
    "model.add(LSTM(75, input_shape=(X.shape[1], X.shape[2])))\n",
    "model.add(Dense(vocab_size, activation='softmax'))\n",
    "print(model.summary())\n",
    "\n",
    "model.compile(loss='categorical_crossentropy', optimizer='adam', metrics=['accuracy'])\n",
    "\n",
    "model.fit(X, y, epochs=30, verbose=2)\n",
    "\n",
    "model.save('char.h5')\n",
    "dump(mapping, open('mapping.pkl', 'wb'))"
   ]
  },
  {
   "cell_type": "code",
   "execution_count": null,
   "metadata": {},
   "outputs": [],
   "source": []
  },
  {
   "cell_type": "markdown",
   "metadata": {},
   "source": [
    "## Calculate Perplexity"
   ]
  },
  {
   "cell_type": "code",
   "execution_count": null,
   "metadata": {},
   "outputs": [],
   "source": [
    "file = open('char_test.txt','r')\n",
    "test = file.read()\n",
    "file.close()\n",
    "\n",
    "text = train.lower()\n",
    "\n",
    "text2 = text.split()\n",
    "text = ' '.join(text2)\n",
    "\n",
    "l = 10\n",
    "lines = list()\n",
    "for i in range(l, len(text)):\n",
    "    l2 = text[i-l:i+1]\n",
    "    lines.append(l2)"
   ]
  },
  {
   "cell_type": "code",
   "execution_count": null,
   "metadata": {},
   "outputs": [],
   "source": [
    "lines2 = list()\n",
    "for line in lines:\n",
    "    encoded_seq = [mapping[char] for char in line]\n",
    "    lines2.append(encoded_seq)\n",
    "\n",
    "lines2 = array(lines2)\n",
    "X = lines2[:,:-1]\n",
    "Y = lines2[:,-1]\n",
    "lines2 = [to_categorical(x, num_classes=vocab_size) for x in X]\n",
    "X = array(lines2)\n",
    "y = to_categorical(y, num_classes=vocab_size)"
   ]
  },
  {
   "cell_type": "code",
   "execution_count": 1,
   "metadata": {},
   "outputs": [
    {
     "name": "stdout",
     "output_type": "stream",
     "text": [
      "4.38\n"
     ]
    }
   ],
   "source": [
    "loss = model.evaluate(X_test,y_test,batch_size=400, verbose=1)\n",
    "print(np.exp(loss))"
   ]
  }
 ],
 "metadata": {
  "kernelspec": {
   "display_name": "Python 3",
   "language": "python",
   "name": "python3"
  },
  "language_info": {
   "codemirror_mode": {
    "name": "ipython",
    "version": 3
   },
   "file_extension": ".py",
   "mimetype": "text/x-python",
   "name": "python",
   "nbconvert_exporter": "python",
   "pygments_lexer": "ipython3",
   "version": "3.5.2"
  }
 },
 "nbformat": 4,
 "nbformat_minor": 2
}
