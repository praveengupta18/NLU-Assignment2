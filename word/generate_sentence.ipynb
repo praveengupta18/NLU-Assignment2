{
 "cells": [
  {
   "cell_type": "code",
   "execution_count": 1,
   "metadata": {},
   "outputs": [
    {
     "name": "stderr",
     "output_type": "stream",
     "text": [
      "/usr/local/lib/python3.5/dist-packages/h5py/__init__.py:36: FutureWarning: Conversion of the second argument of issubdtype from `float` to `np.floating` is deprecated. In future, it will be treated as `np.float64 == np.dtype(float).type`.\n",
      "  from ._conv import register_converters as _register_converters\n",
      "Using TensorFlow backend.\n"
     ]
    }
   ],
   "source": [
    "from random import randint\n",
    "from pickle import load\n",
    "from keras.models import load_model\n",
    "from keras.preprocessing.sequence import pad_sequences"
   ]
  },
  {
   "cell_type": "code",
   "execution_count": 8,
   "metadata": {},
   "outputs": [
    {
     "name": "stdout",
     "output_type": "stream",
     "text": [
      "Input text: the fury of the lord i am weary with holding in i will pour it out upon the children abroad and upon the assembly of young men together for even the\n",
      "\n",
      "\n",
      "Generated text:  lord hath spoken the king of babylon and the lord\n"
     ]
    }
   ],
   "source": [
    "def generate(model, tokenizer, len2, input_text, n):\n",
    "    result = list()\n",
    "    in_text = input_text\n",
    "    for _ in range(n):\n",
    "        encoded = tokenizer.texts_to_sequences([in_text])[0]\n",
    "        encoded = pad_sequences([encoded], maxlen=len2, truncating='pre')\n",
    "        yhat = model.predict_classes(encoded, verbose=0)\n",
    "        out_word = ''\n",
    "        for word, index in tokenizer.word_index.items():\n",
    "            if index == yhat:\n",
    "                out_word = word\n",
    "                break\n",
    "        in_text += ' ' + out_word\n",
    "        result.append(out_word)\n",
    "    return ' '.join(result)\n",
    "\n",
    "file = open('lines.txt', 'r')\n",
    "text = file.read()\n",
    "file.close()\n",
    "\n",
    "lines = text.split('\\n')\n",
    "len2 = len(lines[0].split()) - 1\n",
    "\n",
    "model = load_model('word.h5')\n",
    "\n",
    "tokenizer = load(open('tokenizer.pkl', 'rb'))\n",
    "\n",
    "input_text = lines[randint(0,len(lines))]\n",
    "print('Input text:',input_text)\n",
    "print('\\n')\n",
    "generated = generate(model, tokenizer, len2, input_text, 10)\n",
    "print('Generated text: ',generated)"
   ]
  },
  {
   "cell_type": "code",
   "execution_count": null,
   "metadata": {},
   "outputs": [],
   "source": []
  }
 ],
 "metadata": {
  "kernelspec": {
   "display_name": "Python 3",
   "language": "python",
   "name": "python3"
  },
  "language_info": {
   "codemirror_mode": {
    "name": "ipython",
    "version": 3
   },
   "file_extension": ".py",
   "mimetype": "text/x-python",
   "name": "python",
   "nbconvert_exporter": "python",
   "pygments_lexer": "ipython3",
   "version": "3.5.2"
  }
 },
 "nbformat": 4,
 "nbformat_minor": 2
}
